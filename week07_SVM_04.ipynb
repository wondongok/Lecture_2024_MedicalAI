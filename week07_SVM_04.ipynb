{
  "nbformat": 4,
  "nbformat_minor": 0,
  "metadata": {
    "colab": {
      "name": "week07_SVM_04.ipynb",
      "provenance": [],
      "collapsed_sections": [],
      "authorship_tag": "ABX9TyO/PNV966A8cK3HH1p61obE"
    },
    "kernelspec": {
      "name": "python3",
      "display_name": "Python 3"
    },
    "language_info": {
      "name": "python"
    }
  },
  "cells": [
    {
      "cell_type": "code",
      "metadata": {
        "id": "O9NWmbHdvqLJ"
      },
      "source": [
        "import pandas as pd\n",
        "import numpy as np\n",
        "from sklearn.datasets import load_iris\n",
        "import matplotlib.pyplot as plt\n",
        "from sklearn.model_selection import train_test_split\n",
        "from sklearn import svm"
      ],
      "execution_count": 1,
      "outputs": []
    },
    {
      "cell_type": "markdown",
      "metadata": {
        "id": "1jur1PVoOgFG"
      },
      "source": [
        "### Iris 데이터 불러오기, Train/Test set 분할"
      ]
    },
    {
      "cell_type": "code",
      "metadata": {
        "id": "uacEoApVObNO"
      },
      "source": [
        "iris = load_iris()\n",
        "X = iris.data[:, :4] # 훈련 데이터 (2개의 특징만 사용), 3개의 특징을 사용하고 싶은 경우 iris.data[:, :3], 4개의 특징을 모두 사용하고 싶은 경우 iris.data[:, :4]\n",
        "y = iris.target\n",
        "\n",
        "# 성능 측정을 위한 train_test_split\n",
        "x_train, x_test, y_train, y_test = train_test_split(X, y, test_size=0.3, shuffle=True, stratify=y, random_state=30) # test_size: 테스트에 사용할 비율. 0 ~ 1.0 사이의 값"
      ],
      "execution_count": 2,
      "outputs": []
    },
    {
      "cell_type": "code",
      "metadata": {
        "colab": {
          "base_uri": "https://localhost:8080/"
        },
        "id": "NX4xoI0jObK9",
        "outputId": "94a5bb4a-d7b3-42c9-813a-752949efda78"
      },
      "source": [
        "print(np.shape(x_train))\n",
        "print(np.shape(y_train))\n",
        "print(np.shape(x_test))\n",
        "print(np.shape(y_test))"
      ],
      "execution_count": 3,
      "outputs": [
        {
          "output_type": "stream",
          "text": [
            "(105, 4)\n",
            "(105,)\n",
            "(45, 4)\n",
            "(45,)\n"
          ],
          "name": "stdout"
        }
      ]
    },
    {
      "cell_type": "code",
      "metadata": {
        "colab": {
          "base_uri": "https://localhost:8080/"
        },
        "id": "ofKRxISVObIv",
        "outputId": "fa1ffdf7-9404-4f5d-9ae1-dfec3bf64678"
      },
      "source": [
        "x_train[:5]"
      ],
      "execution_count": 4,
      "outputs": [
        {
          "output_type": "execute_result",
          "data": {
            "text/plain": [
              "array([[5.2, 3.4, 1.4, 0.2],\n",
              "       [5.8, 2.7, 3.9, 1.2],\n",
              "       [6.3, 3.3, 4.7, 1.6],\n",
              "       [6.3, 2.8, 5.1, 1.5],\n",
              "       [6.4, 2.7, 5.3, 1.9]])"
            ]
          },
          "metadata": {
            "tags": []
          },
          "execution_count": 4
        }
      ]
    },
    {
      "cell_type": "code",
      "metadata": {
        "colab": {
          "base_uri": "https://localhost:8080/"
        },
        "id": "1I13hRsfObF_",
        "outputId": "9547c545-f7c3-4ca2-a7a1-cea738dd74bc"
      },
      "source": [
        "y_train[:5]"
      ],
      "execution_count": 5,
      "outputs": [
        {
          "output_type": "execute_result",
          "data": {
            "text/plain": [
              "array([0, 1, 1, 2, 2])"
            ]
          },
          "metadata": {
            "tags": []
          },
          "execution_count": 5
        }
      ]
    },
    {
      "cell_type": "code",
      "metadata": {
        "colab": {
          "base_uri": "https://localhost:8080/"
        },
        "id": "7vZhTgioObDR",
        "outputId": "d74d8041-2aa8-440d-af53-fc0568a44362"
      },
      "source": [
        "x_test[:5]"
      ],
      "execution_count": 6,
      "outputs": [
        {
          "output_type": "execute_result",
          "data": {
            "text/plain": [
              "array([[5.7, 2.5, 5. , 2. ],\n",
              "       [5. , 3.2, 1.2, 0.2],\n",
              "       [6.1, 2.6, 5.6, 1.4],\n",
              "       [5.6, 2.5, 3.9, 1.1],\n",
              "       [6.4, 3.2, 5.3, 2.3]])"
            ]
          },
          "metadata": {
            "tags": []
          },
          "execution_count": 6
        }
      ]
    },
    {
      "cell_type": "code",
      "metadata": {
        "colab": {
          "base_uri": "https://localhost:8080/"
        },
        "id": "9nLDAk1vOmT4",
        "outputId": "9bf4a9ae-5a94-4ef7-f909-0cc1137e8670"
      },
      "source": [
        "y_test[:5]"
      ],
      "execution_count": 7,
      "outputs": [
        {
          "output_type": "execute_result",
          "data": {
            "text/plain": [
              "array([2, 0, 2, 1, 2])"
            ]
          },
          "metadata": {
            "tags": []
          },
          "execution_count": 7
        }
      ]
    },
    {
      "cell_type": "markdown",
      "metadata": {
        "id": "9alp1MMxOtO6"
      },
      "source": [
        "### 학습 / 결과분석"
      ]
    },
    {
      "cell_type": "code",
      "metadata": {
        "colab": {
          "base_uri": "https://localhost:8080/"
        },
        "id": "WwA1ohuCOmR3",
        "outputId": "c41658a4-4eb1-4118-d115-e76d7486fb0f"
      },
      "source": [
        "clf = svm.SVC(kernel='rbf', C=1.0, gamma=0.1) # C와 gamma 값 변경해보기\n",
        "clf.fit(x_train, y_train)"
      ],
      "execution_count": 8,
      "outputs": [
        {
          "output_type": "execute_result",
          "data": {
            "text/plain": [
              "SVC(C=1.0, break_ties=False, cache_size=200, class_weight=None, coef0=0.0,\n",
              "    decision_function_shape='ovr', degree=3, gamma=0.1, kernel='rbf',\n",
              "    max_iter=-1, probability=False, random_state=None, shrinking=True,\n",
              "    tol=0.001, verbose=False)"
            ]
          },
          "metadata": {
            "tags": []
          },
          "execution_count": 8
        }
      ]
    },
    {
      "cell_type": "code",
      "metadata": {
        "id": "MYHhe-sWOmPZ"
      },
      "source": [
        "# test set에 대한 예측(분류) 수행\n",
        "prediction = clf.predict(x_test)"
      ],
      "execution_count": 9,
      "outputs": []
    },
    {
      "cell_type": "code",
      "metadata": {
        "colab": {
          "base_uri": "https://localhost:8080/"
        },
        "id": "CuUYSihMOmNH",
        "outputId": "9c4088ab-d8c2-4f3f-f7c2-f30e72daabf5"
      },
      "source": [
        "# test set에 대한 예측 결과\n",
        "prediction"
      ],
      "execution_count": 10,
      "outputs": [
        {
          "output_type": "execute_result",
          "data": {
            "text/plain": [
              "array([2, 0, 2, 1, 2, 0, 1, 0, 2, 2, 2, 0, 0, 0, 0, 2, 1, 2, 0, 0, 2, 0,\n",
              "       0, 2, 0, 0, 0, 1, 2, 1, 0, 1, 1, 2, 1, 1, 1, 1, 1, 2, 1, 2, 2, 2,\n",
              "       1])"
            ]
          },
          "metadata": {
            "tags": []
          },
          "execution_count": 10
        }
      ]
    },
    {
      "cell_type": "code",
      "metadata": {
        "colab": {
          "base_uri": "https://localhost:8080/"
        },
        "id": "5r50VjeVOmLG",
        "outputId": "8f6895fb-eb85-4980-fdbb-f4eb4f87cced"
      },
      "source": [
        "# test set 정답 label\n",
        "y_test"
      ],
      "execution_count": 11,
      "outputs": [
        {
          "output_type": "execute_result",
          "data": {
            "text/plain": [
              "array([2, 0, 2, 1, 2, 0, 1, 0, 2, 2, 2, 0, 0, 0, 0, 2, 1, 2, 0, 0, 1, 0,\n",
              "       0, 2, 0, 0, 0, 1, 2, 1, 0, 1, 1, 2, 1, 2, 1, 1, 1, 2, 1, 2, 1, 2,\n",
              "       1])"
            ]
          },
          "metadata": {
            "tags": []
          },
          "execution_count": 11
        }
      ]
    },
    {
      "cell_type": "code",
      "metadata": {
        "colab": {
          "base_uri": "https://localhost:8080/"
        },
        "id": "ewOx2Zr_OmIS",
        "outputId": "5ff137e5-2ad7-49ef-b1fc-668baf48df35"
      },
      "source": [
        "# 정확도 (accuracy)\n",
        "(prediction==y_test).mean()"
      ],
      "execution_count": 12,
      "outputs": [
        {
          "output_type": "execute_result",
          "data": {
            "text/plain": [
              "0.9333333333333333"
            ]
          },
          "metadata": {
            "tags": []
          },
          "execution_count": 12
        }
      ]
    },
    {
      "cell_type": "code",
      "metadata": {
        "id": "5GHnb2hvPCs0"
      },
      "source": [
        "import seaborn as sns\n",
        "from sklearn.metrics import confusion_matrix"
      ],
      "execution_count": 13,
      "outputs": []
    },
    {
      "cell_type": "code",
      "metadata": {
        "colab": {
          "base_uri": "https://localhost:8080/",
          "height": 369
        },
        "id": "jV1LBEf5PClC",
        "outputId": "8e14a902-f169-43e0-e44e-f29d91e5b4f0"
      },
      "source": [
        "# confusion matrix 그리기\n",
        "x_lab = iris.target_names\n",
        "y_lab = iris.target_names\n",
        "\n",
        "conf_matrix = confusion_matrix(y_test, prediction)\n",
        "#conf_matrix = conf_matrix.astype('float') / conf_matrix.sum(axis=1)[:, np.newaxis] # 갯수가 아닌 비율로 표시하고 싶을 경우 주석 해제\n",
        "plt.figure(figsize=(7,5)) # 그림의 size 지정\n",
        "aa = sns.heatmap(conf_matrix, xticklabels = x_lab, yticklabels = y_lab, annot=True, fmt=\".3f\", cmap=plt.cm.binary)#, vmin = 0.0, vmax = 1.0)\n",
        "plt.yticks(rotation='horizontal')\n",
        "plt.tight_layout()"
      ],
      "execution_count": 14,
      "outputs": [
        {
          "output_type": "display_data",
          "data": {
            "image/png": "[encoded data removed]",
            "text/plain": [
              "<Figure size 504x360 with 2 Axes>"
            ]
          },
          "metadata": {
            "tags": [],
            "needs_background": "light"
          }
        }
      ]
    },
    {
      "cell_type": "code",
      "metadata": {
        "colab": {
          "base_uri": "https://localhost:8080/"
        },
        "id": "LEGIHjvePJa5",
        "outputId": "09717afe-72e8-4d34-d6c3-f4fd73f15b77"
      },
      "source": [
        "# precision, recall, F1\n",
        "from sklearn.metrics import classification_report\n",
        "\n",
        "print(classification_report(y_test, prediction, digits=4))"
      ],
      "execution_count": 15,
      "outputs": [
        {
          "output_type": "stream",
          "text": [
            "              precision    recall  f1-score   support\n",
            "\n",
            "           0     1.0000    1.0000    1.0000        15\n",
            "           1     0.9286    0.8667    0.8966        15\n",
            "           2     0.8750    0.9333    0.9032        15\n",
            "\n",
            "    accuracy                         0.9333        45\n",
            "   macro avg     0.9345    0.9333    0.9333        45\n",
            "weighted avg     0.9345    0.9333    0.9333        45\n",
            "\n"
          ],
          "name": "stdout"
        }
      ]
    }
  ]
}